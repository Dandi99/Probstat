{
 "cells": [
  {
   "cell_type": "code",
   "execution_count": 1,
   "metadata": {},
   "outputs": [
    {
     "data": {
      "text/html": [
       "<div>\n",
       "<style scoped>\n",
       "    .dataframe tbody tr th:only-of-type {\n",
       "        vertical-align: middle;\n",
       "    }\n",
       "\n",
       "    .dataframe tbody tr th {\n",
       "        vertical-align: top;\n",
       "    }\n",
       "\n",
       "    .dataframe thead th {\n",
       "        text-align: right;\n",
       "    }\n",
       "</style>\n",
       "<table border=\"1\" class=\"dataframe\">\n",
       "  <thead>\n",
       "    <tr style=\"text-align: right;\">\n",
       "      <th></th>\n",
       "      <th>Name</th>\n",
       "      <th>Medal</th>\n",
       "    </tr>\n",
       "  </thead>\n",
       "  <tbody>\n",
       "    <tr>\n",
       "      <th>0</th>\n",
       "      <td>A Dijiang</td>\n",
       "      <td>0</td>\n",
       "    </tr>\n",
       "    <tr>\n",
       "      <th>1</th>\n",
       "      <td>A Lamusi</td>\n",
       "      <td>0</td>\n",
       "    </tr>\n",
       "    <tr>\n",
       "      <th>2</th>\n",
       "      <td>A. Aanantha Sambu Mayavo</td>\n",
       "      <td>0</td>\n",
       "    </tr>\n",
       "    <tr>\n",
       "      <th>3</th>\n",
       "      <td>A. Abdul Razzak</td>\n",
       "      <td>0</td>\n",
       "    </tr>\n",
       "    <tr>\n",
       "      <th>4</th>\n",
       "      <td>A. Brun</td>\n",
       "      <td>0</td>\n",
       "    </tr>\n",
       "    <tr>\n",
       "      <th>5</th>\n",
       "      <td>A. Buydens</td>\n",
       "      <td>0</td>\n",
       "    </tr>\n",
       "    <tr>\n",
       "      <th>6</th>\n",
       "      <td>A. Charles Six</td>\n",
       "      <td>0</td>\n",
       "    </tr>\n",
       "    <tr>\n",
       "      <th>7</th>\n",
       "      <td>A. Christory</td>\n",
       "      <td>0</td>\n",
       "    </tr>\n",
       "    <tr>\n",
       "      <th>8</th>\n",
       "      <td>A. Darnis</td>\n",
       "      <td>0</td>\n",
       "    </tr>\n",
       "    <tr>\n",
       "      <th>9</th>\n",
       "      <td>A. Duponcheel</td>\n",
       "      <td>0</td>\n",
       "    </tr>\n",
       "  </tbody>\n",
       "</table>\n",
       "</div>"
      ],
      "text/plain": [
       "                       Name  Medal\n",
       "0                 A Dijiang      0\n",
       "1                  A Lamusi      0\n",
       "2  A. Aanantha Sambu Mayavo      0\n",
       "3           A. Abdul Razzak      0\n",
       "4                   A. Brun      0\n",
       "5                A. Buydens      0\n",
       "6            A. Charles Six      0\n",
       "7              A. Christory      0\n",
       "8                 A. Darnis      0\n",
       "9             A. Duponcheel      0"
      ]
     },
     "execution_count": 1,
     "metadata": {},
     "output_type": "execute_result"
    }
   ],
   "source": [
    "import numpy as np\n",
    "import pandas as pd\n",
    "import matplotlib.pyplot as plt\n",
    "import seaborn as sns\n",
    "import scipy as sc\n",
    "import plotly.tools as tls\n",
    "import plotly.plotly as py\n",
    "import scipy.special as scpysp\n",
    "\n",
    "atlet = pd.read_csv('../Dataset/athletes.csv', sep=',',engine = 'python')\n",
    "#print(atlet)\n",
    "atlet.head(10)"
   ]
  },
  {
   "cell_type": "code",
   "execution_count": 2,
   "metadata": {},
   "outputs": [
    {
     "data": {
      "text/html": [
       "<div>\n",
       "<style scoped>\n",
       "    .dataframe tbody tr th:only-of-type {\n",
       "        vertical-align: middle;\n",
       "    }\n",
       "\n",
       "    .dataframe tbody tr th {\n",
       "        vertical-align: top;\n",
       "    }\n",
       "\n",
       "    .dataframe thead th {\n",
       "        text-align: right;\n",
       "    }\n",
       "</style>\n",
       "<table border=\"1\" class=\"dataframe\">\n",
       "  <thead>\n",
       "    <tr style=\"text-align: right;\">\n",
       "      <th></th>\n",
       "      <th>Name</th>\n",
       "      <th>Medal</th>\n",
       "    </tr>\n",
       "  </thead>\n",
       "  <tbody>\n",
       "    <tr>\n",
       "      <th>134721</th>\n",
       "      <td>Paavo Johannes Nurmi</td>\n",
       "      <td>12</td>\n",
       "    </tr>\n",
       "    <tr>\n",
       "      <th>134722</th>\n",
       "      <td>Ryan Steven Lochte</td>\n",
       "      <td>12</td>\n",
       "    </tr>\n",
       "    <tr>\n",
       "      <th>134723</th>\n",
       "      <td>Sawao Kato</td>\n",
       "      <td>12</td>\n",
       "    </tr>\n",
       "    <tr>\n",
       "      <th>134724</th>\n",
       "      <td>Borys Anfiyanovych Shakhlin</td>\n",
       "      <td>13</td>\n",
       "    </tr>\n",
       "    <tr>\n",
       "      <th>134725</th>\n",
       "      <td>Edoardo Mangiarotti</td>\n",
       "      <td>13</td>\n",
       "    </tr>\n",
       "    <tr>\n",
       "      <th>134726</th>\n",
       "      <td>Ole Einar Bjrndalen</td>\n",
       "      <td>13</td>\n",
       "    </tr>\n",
       "    <tr>\n",
       "      <th>134727</th>\n",
       "      <td>Takashi Ono</td>\n",
       "      <td>13</td>\n",
       "    </tr>\n",
       "    <tr>\n",
       "      <th>134728</th>\n",
       "      <td>Nikolay Yefimovich Andrianov</td>\n",
       "      <td>15</td>\n",
       "    </tr>\n",
       "    <tr>\n",
       "      <th>134729</th>\n",
       "      <td>Larysa Semenivna Latynina (Diriy-)</td>\n",
       "      <td>18</td>\n",
       "    </tr>\n",
       "    <tr>\n",
       "      <th>134730</th>\n",
       "      <td>Michael Fred Phelps, II</td>\n",
       "      <td>28</td>\n",
       "    </tr>\n",
       "  </tbody>\n",
       "</table>\n",
       "</div>"
      ],
      "text/plain": [
       "                                      Name  Medal\n",
       "134721                Paavo Johannes Nurmi     12\n",
       "134722                  Ryan Steven Lochte     12\n",
       "134723                          Sawao Kato     12\n",
       "134724         Borys Anfiyanovych Shakhlin     13\n",
       "134725                 Edoardo Mangiarotti     13\n",
       "134726                 Ole Einar Bjrndalen     13\n",
       "134727                         Takashi Ono     13\n",
       "134728        Nikolay Yefimovich Andrianov     15\n",
       "134729  Larysa Semenivna Latynina (Diriy-)     18\n",
       "134730             Michael Fred Phelps, II     28"
      ]
     },
     "execution_count": 2,
     "metadata": {},
     "output_type": "execute_result"
    }
   ],
   "source": [
    "atlet.tail(10)"
   ]
  },
  {
   "cell_type": "markdown",
   "metadata": {},
   "source": [
    "# Stastitical Description"
   ]
  },
  {
   "cell_type": "code",
   "execution_count": 3,
   "metadata": {},
   "outputs": [
    {
     "name": "stdout",
     "output_type": "stream",
     "text": [
      "Minimum value of Medal = 0\n",
      "Makimum value of Medal = 28\n",
      "Mean value of Medal = 0.2952772561622789\n",
      "Mode value of Medal = 0\n",
      "Median value of Medal = 0.0\n",
      "Variance value of Medal = 0.5252132778007574\n",
      "Standard Deviation value of Medal = 0.7247159980300956\n",
      "Skewness value of Medal = 0.7247159980300956\n",
      "Kurtosis value of Medal = 51.562525836059855\n"
     ]
    }
   ],
   "source": [
    "Medal = atlet['Medal']\n",
    "Min_medal = atlet['Medal'].min()\n",
    "print(\"Minimum value of Medal = \" + str(Min_medal))\n",
    "\n",
    "Max_medal = atlet['Medal'].max()\n",
    "print(\"Makimum value of Medal = \" + str(Max_medal))\n",
    "\n",
    "Mean_medal = atlet['Medal'].mean()\n",
    "print(\"Mean value of Medal = \" + str(Mean_medal))\n",
    "\n",
    "Mode_medal = atlet['Medal'].mode()[0]\n",
    "print(\"Mode value of Medal = \" + str(Mode_medal))\n",
    "\n",
    "Median_medal = atlet['Medal'].median()\n",
    "print(\"Median value of Medal = \" + str(Median_medal))\n",
    "\n",
    "Variance_medal = atlet['Medal'].var()\n",
    "print(\"Variance value of Medal = \" + str(Variance_medal))\n",
    "\n",
    "std_medal = atlet['Medal'].std()\n",
    "print(\"Standard Deviation value of Medal = \" + str(std_medal))\n",
    "\n",
    "skew_medal = atlet['Medal'].std()\n",
    "print(\"Skewness value of Medal = \" + str(skew_medal))\n",
    "\n",
    "kur_medal = atlet['Medal'].kurtosis()\n",
    "print(\"Kurtosis value of Medal = \" + str(kur_medal))\n"
   ]
  },
  {
   "cell_type": "markdown",
   "metadata": {},
   "source": [
    "# Visualisasi Data"
   ]
  },
  {
   "cell_type": "markdown",
   "metadata": {},
   "source": [
    "# Histogram"
   ]
  },
  {
   "cell_type": "code",
   "execution_count": 4,
   "metadata": {},
   "outputs": [
    {
     "data": {
      "text/plain": [
       "<matplotlib.axes._subplots.AxesSubplot at 0x7f90185d1898>"
      ]
     },
     "execution_count": 4,
     "metadata": {},
     "output_type": "execute_result"
    },
    {
     "data": {
      "image/png": "[encoded data removed]",
      "text/plain": [
       "<Figure size 432x288 with 1 Axes>"
      ]
     },
     "metadata": {
      "needs_background": "light"
     },
     "output_type": "display_data"
    }
   ],
   "source": [
    "range_bin_size = Max_medal -Min_medal\n",
    "Medal.hist(bins = range_bin_size)"
   ]
  },
  {
   "cell_type": "markdown",
   "metadata": {},
   "source": [
    "# Box Plot "
   ]
  },
  {
   "cell_type": "code",
   "execution_count": 5,
   "metadata": {},
   "outputs": [
    {
     "data": {
      "text/plain": [
       "{'whiskers': [<matplotlib.lines.Line2D at 0x7f8fe8b9b438>,\n",
       "  <matplotlib.lines.Line2D at 0x7f8fe8b9b780>],\n",
       " 'caps': [<matplotlib.lines.Line2D at 0x7f8fe8b9bac8>,\n",
       "  <matplotlib.lines.Line2D at 0x7f8fe8b9be10>],\n",
       " 'boxes': [<matplotlib.lines.Line2D at 0x7f8fe8b9b2b0>],\n",
       " 'medians': [<matplotlib.lines.Line2D at 0x7f8fe8b50198>],\n",
       " 'fliers': [<matplotlib.lines.Line2D at 0x7f8fe8b504e0>],\n",
       " 'means': []}"
      ]
     },
     "execution_count": 5,
     "metadata": {},
     "output_type": "execute_result"
    },
    {
     "data": {
      "image/png": "[encoded data removed]",
      "text/plain": [
       "<Figure size 432x288 with 1 Axes>"
      ]
     },
     "metadata": {
      "needs_background": "light"
     },
     "output_type": "display_data"
    }
   ],
   "source": [
    "plt.boxplot(Medal)"
   ]
  },
  {
   "cell_type": "code",
   "execution_count": 6,
   "metadata": {},
   "outputs": [],
   "source": [
    "#Fungsi untuk menentukan distribusi yang cocok\n",
    "import scipy.stats as st\n",
    "\n",
    "def best_fit_distribution(data, bins=200, ax=None):\n",
    "    \"\"\"Model data by finding best fit distribution to data\"\"\"\n",
    "    # Get histogram of original data\n",
    "    y, x = np.histogram(data, bins=bins, density=True)\n",
    "    x = (x + np.roll(x, -1))[:-1] / 2.0\n",
    "\n",
    "    # Distributions to check\n",
    "    DISTRIBUTIONS = [        \n",
    "        st.alpha,\n",
    "        st.chisquare,\n",
    "        st.beta,\n",
    "        st.norm,\n",
    "        st.uniform\n",
    "    ]\n",
    "\n",
    "    # Best holders\n",
    "    best_distribution = st.gamma\n",
    "    best_params = (0.0, 1.0)\n",
    "    best_sse = np.inf\n",
    "\n",
    "    # Estimate distribution parameters from data\n",
    "    for distribution in DISTRIBUTIONS:\n",
    "\n",
    "        # Try to fit the distribution\n",
    "        try:\n",
    "            # Ignore warnings from data that can't be fit\n",
    "            with warnings.catch_warnings():\n",
    "                warnings.filterwarnings('ignore')\n",
    "\n",
    "                # fit dist to data\n",
    "                params = distribution.fit(data)\n",
    "\n",
    "                # Separate parts of parameters\n",
    "                arg = params[:-2]\n",
    "                loc = params[-2]\n",
    "                scale = params[-1]\n",
    "\n",
    "                # Calculate fitted PDF and error with fit in distribution\n",
    "                pdf = distribution.pdf(x, loc=loc, scale=scale, *arg)\n",
    "                sse = np.sum(np.power(y - pdf, 2.0))\n",
    "\n",
    "                # if axis pass in add to plot\n",
    "                try:\n",
    "                    if ax:\n",
    "                        pd.Series(pdf, x).plot(ax=ax)\n",
    "                    end\n",
    "                except Exception:\n",
    "                    pass\n",
    "\n",
    "                # identify if this distribution is better\n",
    "                if best_sse > sse > 0:\n",
    "                    best_distribution = distribution\n",
    "                    best_params = params\n",
    "                    best_sse = sse\n",
    "\n",
    "        except Exception:\n",
    "            pass\n",
    "\n",
    "    return (best_distribution.name, best_params)"
   ]
  },
  {
   "cell_type": "code",
   "execution_count": 7,
   "metadata": {},
   "outputs": [],
   "source": [
    "fungsi = best_fit_distribution(Medal)"
   ]
  },
  {
   "cell_type": "code",
   "execution_count": 8,
   "metadata": {},
   "outputs": [
    {
     "name": "stdout",
     "output_type": "stream",
     "text": [
      "('gamma', (0.0, 1.0))\n"
     ]
    }
   ],
   "source": [
    "print(fungsi)"
   ]
  },
  {
   "cell_type": "markdown",
   "metadata": {},
   "source": [
    "# Fungsi Distribusi\n",
    "Fungsi distribusi ini yaitu distribusi gamma"
   ]
  },
  {
   "cell_type": "code",
   "execution_count": 9,
   "metadata": {},
   "outputs": [
    {
     "data": {
      "image/png": "[encoded data removed]",
      "text/plain": [
       "<Figure size 432x288 with 1 Axes>"
      ]
     },
     "metadata": {
      "needs_background": "light"
     },
     "output_type": "display_data"
    }
   ],
   "source": [
    "beta = Medal.var()/Medal.mean()\n",
    "alpha = Medal.mean()/beta\n",
    "x_gamma = pd.DataFrame(np.random.gamma(alpha,beta,len(Medal.index)))\n",
    "plt.hist([x_gamma[0].round(),Medal],bins=range_bin_size,label=[\"Gamma Distribution\",\"Sample\"])\n",
    "plt.legend(loc = 'upper right')\n",
    "plt.show()"
   ]
  },
  {
   "cell_type": "code",
   "execution_count": 10,
   "metadata": {},
   "outputs": [],
   "source": [
    "#Setelah dibandingkan data sampel dengan distribusi gamma, data sampel memiliki kemiripan dengan distribusi gamma "
   ]
  },
  {
   "cell_type": "markdown",
   "metadata": {},
   "source": [
    "# Soal A.i\n",
    "Peluang Y meraih 0 medali.\n",
    "maka peluang seseorang tidak mendapatkan medali sama dengan peluang x <= 0.5.\n",
    "Distribusi kumulatif dari distribusi gamma adalah F(x) = g(alpha, x*beta) / Gamma(alpha)"
   ]
  },
  {
   "cell_type": "code",
   "execution_count": 11,
   "metadata": {},
   "outputs": [
    {
     "data": {
      "text/plain": [
       "0.9495725310243279"
      ]
     },
     "execution_count": 11,
     "metadata": {},
     "output_type": "execute_result"
    }
   ],
   "source": [
    "scpysp.gammainc(alpha,0.5*beta)"
   ]
  },
  {
   "cell_type": "markdown",
   "metadata": {},
   "source": [
    "# Soal A.ii\n",
    "Peluang memperoleh lebih dari 10 medali\n",
    "P(X>=10.5) = 1 - P(X<=10.5)"
   ]
  },
  {
   "cell_type": "code",
   "execution_count": 12,
   "metadata": {},
   "outputs": [
    {
     "data": {
      "text/plain": [
       "1.156553741665789e-10"
      ]
     },
     "execution_count": 12,
     "metadata": {},
     "output_type": "execute_result"
    }
   ],
   "source": [
    "1 - scpysp.gammainc(alpha,10.5*beta)"
   ]
  },
  {
   "cell_type": "markdown",
   "metadata": {},
   "source": [
    "# Soal A.iii\n",
    "Peluang tepat 3 medali\n",
    "P(X==3) ~ P(2.5<=X<=3.5) = P(X<=3.5) - P (X<=2.5)"
   ]
  },
  {
   "cell_type": "code",
   "execution_count": 63,
   "metadata": {},
   "outputs": [
    {
     "data": {
      "text/plain": [
       "0.0004516462780106423"
      ]
     },
     "execution_count": 63,
     "metadata": {},
     "output_type": "execute_result"
    }
   ],
   "source": [
    "scpysp.gammainc(alpha,3.5*beta) - scpysp.gammainc(alpha,2.5*beta)"
   ]
  },
  {
   "cell_type": "markdown",
   "metadata": {},
   "source": [
    "# Soal A.iv\n",
    "Peluang satu atau tiga medali\n",
    "P(X==1 atau X==5) = P(0.5<=X<=1.5) + P(4.5<=X<=5.5)\n",
    "P(X==1 atau X==5) = P(X<=1.5) - P(X<=0.5) + P(X<=5.5) - P(X<=4.5)"
   ]
  },
  {
   "cell_type": "code",
   "execution_count": 64,
   "metadata": {},
   "outputs": [
    {
     "data": {
      "text/plain": [
       "0.04605229515401199"
      ]
     },
     "execution_count": 64,
     "metadata": {},
     "output_type": "execute_result"
    }
   ],
   "source": [
    "scpysp.gammainc(alpha,1.5*beta)-scpysp.gammainc(alpha,0.5*beta) + scpysp.gammainc(alpha,5.5*beta) - scpysp.gammainc(alpha,4.5*beta)"
   ]
  },
  {
   "cell_type": "markdown",
   "metadata": {},
   "source": [
    "# Soal B\n",
    "confidence interval"
   ]
  },
  {
   "cell_type": "code",
   "execution_count": 67,
   "metadata": {},
   "outputs": [
    {
     "name": "stdout",
     "output_type": "stream",
     "text": [
      "95 % confidence interval mean estimator x_bar : \n",
      "0.2952651995551875  < mean <  0.2952893127693703\n"
     ]
    }
   ],
   "source": [
    "# confidence interval untuk estimator mean  yakni x bar\n",
    "# Distribusi yang digunakan adalah distribusi t-student ,karena simpangan baku populasi tidak diketahui\n",
    "# derajat kebebasannya sebesar 134730 (sample size - 1)\n",
    "# ta/2 = 2.241428\n",
    "# Confidence interval 95% untuk mean populasi :\n",
    "\n",
    "t_val = 2.241428\n",
    "data_std = Medal.std()\n",
    "data_mean = Medal.mean()\n",
    "lower_boundary = data_mean - t_val*(data_std/len(Medal.index))\n",
    "upper_boundary = data_mean + t_val*(data_std/len(Medal.index))\n",
    "print(\"95 % confidence interval mean estimator x_bar : \")\n",
    "print(str(lower_boundary) , \" < mean < \" , str(upper_boundary))"
   ]
  },
  {
   "cell_type": "code",
   "execution_count": 68,
   "metadata": {},
   "outputs": [
    {
     "name": "stdout",
     "output_type": "stream",
     "text": [
      "95 % confidence interval variance estimator sample variance : \n",
      "0.5377386326305396  < mean <  0.5377386326305396\n"
     ]
    }
   ],
   "source": [
    "# confidence interval untuk estimator variansi, yakni variansi sampel\n",
    "# Distribusi yang digunakan adalah distribusi chi-square, dengan level signifikansi 5 %\n",
    "# Derajat kebebasannya sebesar 134730 (sample size - 1)\n",
    "# Nilai darititik kritis atas = 31591.782 dan kritis bawah = 131591.782 \n",
    "# Confidence interval 95% untuk simpangan baku populasi :\n",
    "std_lowbound = (len(Medal.index)-1)*(data_std)**2/131591.782\n",
    "std_upbound = (len(Medal.index)-1)*(data_std)**2/131591.782\n",
    "\n",
    "print(\"95 % confidence interval variance estimator sample variance : \")\n",
    "print(str(std_lowbound) , \" < mean < \" , str(std_upbound))"
   ]
  }
 ],
 "metadata": {
  "kernelspec": {
   "display_name": "Python 3",
   "language": "python",
   "name": "python3"
  },
  "language_info": {
   "codemirror_mode": {
    "name": "ipython",
    "version": 3
   },
   "file_extension": ".py",
   "mimetype": "text/x-python",
   "name": "python",
   "nbconvert_exporter": "python",
   "pygments_lexer": "ipython3",
   "version": "3.6.7"
  }
 },
 "nbformat": 4,
 "nbformat_minor": 2
}
