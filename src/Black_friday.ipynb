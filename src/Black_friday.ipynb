{
 "cells": [
  {
   "cell_type": "code",
   "execution_count": 2,
   "metadata": {
    "scrolled": true
   },
   "outputs": [
    {
     "data": {
      "text/html": [
       "<div>\n",
       "<style scoped>\n",
       "    .dataframe tbody tr th:only-of-type {\n",
       "        vertical-align: middle;\n",
       "    }\n",
       "\n",
       "    .dataframe tbody tr th {\n",
       "        vertical-align: top;\n",
       "    }\n",
       "\n",
       "    .dataframe thead th {\n",
       "        text-align: right;\n",
       "    }\n",
       "</style>\n",
       "<table border=\"1\" class=\"dataframe\">\n",
       "  <thead>\n",
       "    <tr style=\"text-align: right;\">\n",
       "      <th></th>\n",
       "      <th>0</th>\n",
       "    </tr>\n",
       "  </thead>\n",
       "  <tbody>\n",
       "    <tr>\n",
       "      <th>0</th>\n",
       "      <td>8370</td>\n",
       "    </tr>\n",
       "    <tr>\n",
       "      <th>1</th>\n",
       "      <td>15200</td>\n",
       "    </tr>\n",
       "    <tr>\n",
       "      <th>2</th>\n",
       "      <td>1422</td>\n",
       "    </tr>\n",
       "    <tr>\n",
       "      <th>3</th>\n",
       "      <td>1057</td>\n",
       "    </tr>\n",
       "    <tr>\n",
       "      <th>4</th>\n",
       "      <td>7969</td>\n",
       "    </tr>\n",
       "    <tr>\n",
       "      <th>5</th>\n",
       "      <td>15227</td>\n",
       "    </tr>\n",
       "    <tr>\n",
       "      <th>6</th>\n",
       "      <td>19215</td>\n",
       "    </tr>\n",
       "    <tr>\n",
       "      <th>7</th>\n",
       "      <td>15854</td>\n",
       "    </tr>\n",
       "    <tr>\n",
       "      <th>8</th>\n",
       "      <td>15686</td>\n",
       "    </tr>\n",
       "    <tr>\n",
       "      <th>9</th>\n",
       "      <td>7871</td>\n",
       "    </tr>\n",
       "  </tbody>\n",
       "</table>\n",
       "</div>"
      ],
      "text/plain": [
       "       0\n",
       "0   8370\n",
       "1  15200\n",
       "2   1422\n",
       "3   1057\n",
       "4   7969\n",
       "5  15227\n",
       "6  19215\n",
       "7  15854\n",
       "8  15686\n",
       "9   7871"
      ]
     },
     "execution_count": 2,
     "metadata": {},
     "output_type": "execute_result"
    }
   ],
   "source": [
    "import numpy as np\n",
    "import pandas as pd\n",
    "import matplotlib.pyplot as plt\n",
    "import seaborn as sns\n",
    "import scipy as sc\n",
    "import plotly.tools as tls\n",
    "import plotly.plotly as py\n",
    "\n",
    "bf = pd.read_csv('../Dataset/black_friday.csv', engine = 'python',header = None)\n",
    "bf.head(10)\n"
   ]
  },
  {
   "cell_type": "code",
   "execution_count": 3,
   "metadata": {},
   "outputs": [
    {
     "data": {
      "text/html": [
       "<div>\n",
       "<style scoped>\n",
       "    .dataframe tbody tr th:only-of-type {\n",
       "        vertical-align: middle;\n",
       "    }\n",
       "\n",
       "    .dataframe tbody tr th {\n",
       "        vertical-align: top;\n",
       "    }\n",
       "\n",
       "    .dataframe thead th {\n",
       "        text-align: right;\n",
       "    }\n",
       "</style>\n",
       "<table border=\"1\" class=\"dataframe\">\n",
       "  <thead>\n",
       "    <tr style=\"text-align: right;\">\n",
       "      <th></th>\n",
       "      <th>0</th>\n",
       "    </tr>\n",
       "  </thead>\n",
       "  <tbody>\n",
       "    <tr>\n",
       "      <th>537567</th>\n",
       "      <td>1994</td>\n",
       "    </tr>\n",
       "    <tr>\n",
       "      <th>537568</th>\n",
       "      <td>5930</td>\n",
       "    </tr>\n",
       "    <tr>\n",
       "      <th>537569</th>\n",
       "      <td>7042</td>\n",
       "    </tr>\n",
       "    <tr>\n",
       "      <th>537570</th>\n",
       "      <td>15491</td>\n",
       "    </tr>\n",
       "    <tr>\n",
       "      <th>537571</th>\n",
       "      <td>11852</td>\n",
       "    </tr>\n",
       "    <tr>\n",
       "      <th>537572</th>\n",
       "      <td>11664</td>\n",
       "    </tr>\n",
       "    <tr>\n",
       "      <th>537573</th>\n",
       "      <td>19196</td>\n",
       "    </tr>\n",
       "    <tr>\n",
       "      <th>537574</th>\n",
       "      <td>8043</td>\n",
       "    </tr>\n",
       "    <tr>\n",
       "      <th>537575</th>\n",
       "      <td>7172</td>\n",
       "    </tr>\n",
       "    <tr>\n",
       "      <th>537576</th>\n",
       "      <td>6875</td>\n",
       "    </tr>\n",
       "  </tbody>\n",
       "</table>\n",
       "</div>"
      ],
      "text/plain": [
       "            0\n",
       "537567   1994\n",
       "537568   5930\n",
       "537569   7042\n",
       "537570  15491\n",
       "537571  11852\n",
       "537572  11664\n",
       "537573  19196\n",
       "537574   8043\n",
       "537575   7172\n",
       "537576   6875"
      ]
     },
     "execution_count": 3,
     "metadata": {},
     "output_type": "execute_result"
    }
   ],
   "source": [
    "bf.tail(10)"
   ]
  },
  {
   "cell_type": "markdown",
   "metadata": {},
   "source": [
    "# Statical Description"
   ]
  },
  {
   "cell_type": "code",
   "execution_count": 4,
   "metadata": {},
   "outputs": [
    {
     "name": "stdout",
     "output_type": "stream",
     "text": [
      "Minimum value = 185\n",
      "Makimum value = 23961\n",
      "Mean value = 9333.859852635065\n",
      "Mode value = 6855\n",
      "Median value = 8062.0\n",
      "Variance value = 24810581.486013696\n",
      "Standard Deviation value = 4981.022132656479\n",
      "Skewness value  = 4981.022132656479\n",
      "Kurtosis value = -0.34312137256836284\n"
     ]
    }
   ],
   "source": [
    "purchase = bf[0]\n",
    "Min = purchase.min()\n",
    "print(\"Minimum value = \" + str(Min))\n",
    "\n",
    "Max = purchase.max()\n",
    "print(\"Makimum value = \" + str(Max))\n",
    "\n",
    "Mean = purchase.mean()\n",
    "print(\"Mean value = \" + str(Mean))\n",
    "\n",
    "Mode = purchase.mode()[0]\n",
    "print(\"Mode value = \" + str(Mode))\n",
    "\n",
    "Median = purchase.median()\n",
    "print(\"Median value = \" + str(Median))\n",
    "\n",
    "Variance = purchase.var()\n",
    "print(\"Variance value = \" + str(Variance))\n",
    "\n",
    "std = purchase.std()\n",
    "print(\"Standard Deviation value = \" + str(std))\n",
    "\n",
    "skew = purchase.std()\n",
    "print(\"Skewness value  = \" + str(skew))\n",
    "\n",
    "kur = purchase.kurtosis()\n",
    "print(\"Kurtosis value = \" + str(kur))"
   ]
  },
  {
   "cell_type": "markdown",
   "metadata": {},
   "source": [
    "# Visualisasi Data Histogram"
   ]
  },
  {
   "cell_type": "code",
   "execution_count": 5,
   "metadata": {},
   "outputs": [
    {
     "data": {
      "text/plain": [
       "<matplotlib.axes._subplots.AxesSubplot at 0x7fc476e26320>"
      ]
     },
     "execution_count": 5,
     "metadata": {},
     "output_type": "execute_result"
    },
    {
     "data": {
      "image/png": "[encoded data removed]",
      "text/plain": [
       "<Figure size 432x288 with 1 Axes>"
      ]
     },
     "metadata": {
      "needs_background": "light"
     },
     "output_type": "display_data"
    }
   ],
   "source": [
    "bin_size = 25\n",
    "purchase.hist(bins = bin_size)"
   ]
  },
  {
   "cell_type": "markdown",
   "metadata": {},
   "source": [
    "# Visualisasi Data Box Plot"
   ]
  },
  {
   "cell_type": "code",
   "execution_count": 6,
   "metadata": {},
   "outputs": [
    {
     "data": {
      "text/plain": [
       "<matplotlib.axes._subplots.AxesSubplot at 0x7fc474de5240>"
      ]
     },
     "execution_count": 6,
     "metadata": {},
     "output_type": "execute_result"
    },
    {
     "data": {
      "image/png": "[encoded data removed]",
      "text/plain": [
       "<Figure size 432x288 with 1 Axes>"
      ]
     },
     "metadata": {
      "needs_background": "light"
     },
     "output_type": "display_data"
    }
   ],
   "source": [
    "bf.boxplot()"
   ]
  },
  {
   "cell_type": "code",
   "execution_count": 7,
   "metadata": {},
   "outputs": [],
   "source": [
    "def best_fit_distribution(data, bins=200, ax=None):\n",
    "    \"\"\"Model data by finding best fit distribution to data\"\"\"\n",
    "    # Get histogram of original data\n",
    "    y, x = np.histogram(data, bins=bins, density=True)\n",
    "    x = (x + np.roll(x, -1))[:-1] / 2.0\n",
    "\n",
    "    # Distributions to check\n",
    "    DISTRIBUTIONS = [        \n",
    "        st.alpha,\n",
    "        st.beta,\n",
    "        st.gamma,\n",
    "        st.norm,\n",
    "        st.uniform\n",
    "    ]\n",
    "\n",
    "    # Best holders\n",
    "    best_distribution = st.norm\n",
    "    best_params = (0.0, 1.0)\n",
    "    best_sse = np.inf\n",
    "\n",
    "    # Estimate distribution parameters from data\n",
    "    for distribution in DISTRIBUTIONS:\n",
    "\n",
    "        # Try to fit the distribution\n",
    "        try:\n",
    "            # Ignore warnings from data that can't be fit\n",
    "            with warnings.catch_warnings():\n",
    "                warnings.filterwarnings('ignore')\n",
    "\n",
    "                # fit dist to data\n",
    "                params = distribution.fit(data)\n",
    "\n",
    "                # Separate parts of parameters\n",
    "                arg = params[:-2]\n",
    "                loc = params[-2]\n",
    "                scale = params[-1]\n",
    "\n",
    "                # Calculate fitted PDF and error with fit in distribution\n",
    "                pdf = distribution.pdf(x, loc=loc, scale=scale, *arg)\n",
    "                sse = np.sum(np.power(y - pdf, 2.0))\n",
    "\n",
    "                # if axis pass in add to plot\n",
    "                try:\n",
    "                    if ax:\n",
    "                        pd.Series(pdf, x).plot(ax=ax)\n",
    "                    end\n",
    "                except Exception:\n",
    "                    pass\n",
    "\n",
    "                # identify if this distribution is better\n",
    "                if best_sse > sse > 0:\n",
    "                    best_distribution = distribution\n",
    "                    best_params = params\n",
    "                    best_sse = sse\n",
    "\n",
    "        except Exception:\n",
    "            pass\n",
    "\n",
    "    return (best_distribution.name, best_params)"
   ]
  },
  {
   "cell_type": "code",
   "execution_count": 8,
   "metadata": {},
   "outputs": [
    {
     "data": {
      "text/plain": [
       "0          8.370\n",
       "1         15.200\n",
       "2          1.422\n",
       "3          1.057\n",
       "4          7.969\n",
       "5         15.227\n",
       "6         19.215\n",
       "7         15.854\n",
       "8         15.686\n",
       "9          7.871\n",
       "10         5.254\n",
       "11         3.957\n",
       "12         6.073\n",
       "13        15.665\n",
       "14         5.378\n",
       "15         2.079\n",
       "16        13.055\n",
       "17         8.851\n",
       "18        11.788\n",
       "19        19.614\n",
       "20         8.584\n",
       "21         9.872\n",
       "22         9.743\n",
       "23         5.982\n",
       "24        11.927\n",
       "25        16.662\n",
       "26         5.887\n",
       "27         6.973\n",
       "28         5.391\n",
       "29        16.352\n",
       "           ...  \n",
       "537547    11.543\n",
       "537548    20.924\n",
       "537549    13.082\n",
       "537550    11.658\n",
       "537551     6.863\n",
       "537552    16.415\n",
       "537553    18.526\n",
       "537554     7.099\n",
       "537555     0.578\n",
       "537556     2.183\n",
       "537557    12.724\n",
       "537558     7.796\n",
       "537559     7.770\n",
       "537560     5.940\n",
       "537561     7.834\n",
       "537562    11.508\n",
       "537563     6.074\n",
       "537564     7.084\n",
       "537565     7.934\n",
       "537566     5.350\n",
       "537567     1.994\n",
       "537568     5.930\n",
       "537569     7.042\n",
       "537570    15.491\n",
       "537571    11.852\n",
       "537572    11.664\n",
       "537573    19.196\n",
       "537574     8.043\n",
       "537575     7.172\n",
       "537576     6.875\n",
       "Name: 0, Length: 537577, dtype: float64"
      ]
     },
     "execution_count": 8,
     "metadata": {},
     "output_type": "execute_result"
    }
   ],
   "source": [
    "data_tmp = purchase.divide(1000)\n",
    "data_tmp"
   ]
  },
  {
   "cell_type": "code",
   "execution_count": 9,
   "metadata": {},
   "outputs": [
    {
     "data": {
      "text/plain": [
       "0          8.0\n",
       "1         15.0\n",
       "2          1.0\n",
       "3          1.0\n",
       "4          8.0\n",
       "5         15.0\n",
       "6         19.0\n",
       "7         16.0\n",
       "8         16.0\n",
       "9          8.0\n",
       "10         5.0\n",
       "11         4.0\n",
       "12         6.0\n",
       "13        16.0\n",
       "14         5.0\n",
       "15         2.0\n",
       "16        13.0\n",
       "17         9.0\n",
       "18        12.0\n",
       "19        20.0\n",
       "20         9.0\n",
       "21        10.0\n",
       "22        10.0\n",
       "23         6.0\n",
       "24        12.0\n",
       "25        17.0\n",
       "26         6.0\n",
       "27         7.0\n",
       "28         5.0\n",
       "29        16.0\n",
       "          ... \n",
       "537547    12.0\n",
       "537548    21.0\n",
       "537549    13.0\n",
       "537550    12.0\n",
       "537551     7.0\n",
       "537552    16.0\n",
       "537553    19.0\n",
       "537554     7.0\n",
       "537555     1.0\n",
       "537556     2.0\n",
       "537557    13.0\n",
       "537558     8.0\n",
       "537559     8.0\n",
       "537560     6.0\n",
       "537561     8.0\n",
       "537562    12.0\n",
       "537563     6.0\n",
       "537564     7.0\n",
       "537565     8.0\n",
       "537566     5.0\n",
       "537567     2.0\n",
       "537568     6.0\n",
       "537569     7.0\n",
       "537570    15.0\n",
       "537571    12.0\n",
       "537572    12.0\n",
       "537573    19.0\n",
       "537574     8.0\n",
       "537575     7.0\n",
       "537576     7.0\n",
       "Name: 0, Length: 537577, dtype: float64"
      ]
     },
     "execution_count": 9,
     "metadata": {},
     "output_type": "execute_result"
    }
   ],
   "source": [
    "data_tmp.round()\n"
   ]
  },
  {
   "cell_type": "code",
   "execution_count": 10,
   "metadata": {},
   "outputs": [
    {
     "data": {
      "text/plain": [
       "6.855     186\n",
       "7.011     185\n",
       "7.193     182\n",
       "6.891     182\n",
       "6.879     181\n",
       "7.012     180\n",
       "7.027     180\n",
       "7.165     179\n",
       "7.166     179\n",
       "6.883     179\n",
       "6.960     178\n",
       "6.923     176\n",
       "7.093     176\n",
       "6.858     176\n",
       "6.868     176\n",
       "7.089     176\n",
       "7.114     175\n",
       "7.167     175\n",
       "7.060     174\n",
       "7.185     174\n",
       "6.928     174\n",
       "6.931     174\n",
       "6.973     173\n",
       "7.146     173\n",
       "6.904     173\n",
       "7.047     173\n",
       "7.108     172\n",
       "7.081     171\n",
       "7.085     171\n",
       "7.034     171\n",
       "         ... \n",
       "21.502      1\n",
       "14.330      1\n",
       "11.267      1\n",
       "21.091      1\n",
       "13.962      1\n",
       "15.043      1\n",
       "17.411      1\n",
       "8.916       1\n",
       "7.315       1\n",
       "17.111      1\n",
       "17.014      1\n",
       "3.328       1\n",
       "18.408      1\n",
       "18.477      1\n",
       "10.453      1\n",
       "11.299      1\n",
       "4.829       1\n",
       "0.351       1\n",
       "11.142      1\n",
       "9.018       1\n",
       "10.525      1\n",
       "13.885      1\n",
       "15.154      1\n",
       "23.856      1\n",
       "14.317      1\n",
       "9.088       1\n",
       "3.275       1\n",
       "9.437       1\n",
       "17.328      1\n",
       "10.333      1\n",
       "Name: 0, Length: 17959, dtype: int64"
      ]
     },
     "execution_count": 10,
     "metadata": {},
     "output_type": "execute_result"
    }
   ],
   "source": [
    "data_tmp.value_counts()"
   ]
  },
  {
   "cell_type": "code",
   "execution_count": 32,
   "metadata": {},
   "outputs": [],
   "source": [
    "def Miskin(data) :\n",
    "    count = 0\n",
    "    for i in data :\n",
    "        if(data[i]<1000):\n",
    "            count = count+1\n",
    "    return count\n",
    "\n",
    "def Kaya(data) :\n",
    "    count = 0\n",
    "    for i in data :\n",
    "        if(data[i]>10000):\n",
    "            count = count+1\n",
    "    return count\n",
    "\n",
    "def CrazyRich(data) :\n",
    "    count = 0\n",
    "    for i in data :\n",
    "        if(data[i]>20000):\n",
    "            count = count+1\n",
    "    return count"
   ]
  },
  {
   "cell_type": "code",
   "execution_count": null,
   "metadata": {},
   "outputs": [],
   "source": []
  },
  {
   "cell_type": "code",
   "execution_count": 29,
   "metadata": {},
   "outputs": [],
   "source": [
    "Jumlah_Miskin = Miskin(purchase)\n",
    "Jumlah_Kaya = Kaya(purchase)\n",
    "Jumlah_CrazyRich = CrazyRich(purchase)\n",
    "\n",
    "data = []\n",
    "data.append(Jumlah_Miskin)\n",
    "data.append(Jumlah_Kaya)\n",
    "data.append(Jumlah_CrazyRich)"
   ]
  },
  {
   "cell_type": "code",
   "execution_count": 27,
   "metadata": {},
   "outputs": [],
   "source": [
    "Ekspetasi_Miskin = 250*Jumlah_Miskin/len(purchase)\n",
    "Ekspetasi_Kaya = 250*Jumlah_Kaya/len(purchase)\n",
    "Ekspetasi_CrazyRich = 250*Jumlah_CrazyRich/len(purchase)"
   ]
  },
  {
   "cell_type": "markdown",
   "metadata": {},
   "source": [
    "# A. Jika terdapat 250 orang pembeli baru yang mengikuti Black Friday, tentukan ekspetasi jumlah orang miskin, kaya, dan crazy rich "
   ]
  },
  {
   "cell_type": "markdown",
   "metadata": {},
   "source": [
    "i. Ekspetasi jumlah orang miskin"
   ]
  },
  {
   "cell_type": "code",
   "execution_count": 33,
   "metadata": {
    "scrolled": true
   },
   "outputs": [
    {
     "name": "stdout",
     "output_type": "stream",
     "text": [
      "3.284651844576395\n"
     ]
    }
   ],
   "source": [
    "print(Ekspetasi_Miskin)"
   ]
  },
  {
   "cell_type": "markdown",
   "metadata": {},
   "source": [
    "ii. Ekspetasi jumlah orang kaya"
   ]
  },
  {
   "cell_type": "code",
   "execution_count": 34,
   "metadata": {},
   "outputs": [
    {
     "name": "stdout",
     "output_type": "stream",
     "text": [
      "83.76024971352888\n"
     ]
    }
   ],
   "source": [
    "print(Ekspetasi_Kaya)"
   ]
  },
  {
   "cell_type": "markdown",
   "metadata": {},
   "source": [
    "iii. Ekspetasi jumlah orang Crazy Rich"
   ]
  },
  {
   "cell_type": "code",
   "execution_count": 35,
   "metadata": {},
   "outputs": [
    {
     "name": "stdout",
     "output_type": "stream",
     "text": [
      "5.169966665178505\n"
     ]
    }
   ],
   "source": [
    "print(Ekspetasi_CrazyRich)"
   ]
  },
  {
   "cell_type": "code",
   "execution_count": 36,
   "metadata": {},
   "outputs": [],
   "source": [
    "def Galaxy(data) :\n",
    "    count = 0\n",
    "    for i in data :\n",
    "        if(data[i]>1980) and data[i]<2000:\n",
    "            count = count+1\n",
    "    return count\n",
    "\n",
    "def Mac(data) :\n",
    "    count = 0\n",
    "    for i in data :\n",
    "        if(data[i]>2707) and data[i]<2897:\n",
    "            count = count+1\n",
    "    return count\n",
    "    "
   ]
  },
  {
   "cell_type": "code",
   "execution_count": 39,
   "metadata": {},
   "outputs": [],
   "source": [
    "Jumlah_Galaxy = Galaxy(purchase)\n",
    "Jumlah_Mac = Mac(purchase)\n",
    "Ekspetasi_Galaxy = 1000*Jumlah_Galaxy/len(purchase)\n",
    "Ekspetasi_Mac = 1000*Jumlah_Mac/len(purchase)"
   ]
  },
  {
   "cell_type": "markdown",
   "metadata": {},
   "source": [
    "# B. Jika terdapat 1000 orang pembeli baru yang mengikuti Black Friday, tentukan ekspektasi jumlah orang yang pengeluarannya membeli Galaxy Fold dan MacBook Pro+ iPhone XR + AirPods"
   ]
  },
  {
   "cell_type": "markdown",
   "metadata": {},
   "source": [
    "i. Ekspetasi jumlah orang pembeli Galaxy Fold"
   ]
  },
  {
   "cell_type": "code",
   "execution_count": 42,
   "metadata": {},
   "outputs": [
    {
     "name": "stdout",
     "output_type": "stream",
     "text": [
      "0.9226602378082355\n"
     ]
    }
   ],
   "source": [
    "print(Ekspetasi_Galaxy)"
   ]
  },
  {
   "cell_type": "markdown",
   "metadata": {},
   "source": [
    "ii. Ekspetasi jumlah orang pembeli MacBook Pro Touch Bar 256GB + iPhone XR + AirPods 2"
   ]
  },
  {
   "cell_type": "code",
   "execution_count": 41,
   "metadata": {},
   "outputs": [
    {
     "name": "stdout",
     "output_type": "stream",
     "text": [
      "7.146896438829114\n"
     ]
    }
   ],
   "source": [
    "print(Ekspetasi_Mac)"
   ]
  },
  {
   "cell_type": "code",
   "execution_count": null,
   "metadata": {},
   "outputs": [],
   "source": []
  }
 ],
 "metadata": {
  "kernelspec": {
   "display_name": "Python 3",
   "language": "python",
   "name": "python3"
  },
  "language_info": {
   "codemirror_mode": {
    "name": "ipython",
    "version": 3
   },
   "file_extension": ".py",
   "mimetype": "text/x-python",
   "name": "python",
   "nbconvert_exporter": "python",
   "pygments_lexer": "ipython3",
   "version": "3.6.7"
  }
 },
 "nbformat": 4,
 "nbformat_minor": 2
}
