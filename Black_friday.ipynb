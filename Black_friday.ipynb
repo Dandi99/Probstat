{
 "cells": [
  {
   "cell_type": "code",
   "execution_count": 12,
   "metadata": {
    "scrolled": true
   },
   "outputs": [
    {
     "data": {
      "text/html": [
       "<div>\n",
       "<style scoped>\n",
       "    .dataframe tbody tr th:only-of-type {\n",
       "        vertical-align: middle;\n",
       "    }\n",
       "\n",
       "    .dataframe tbody tr th {\n",
       "        vertical-align: top;\n",
       "    }\n",
       "\n",
       "    .dataframe thead th {\n",
       "        text-align: right;\n",
       "    }\n",
       "</style>\n",
       "<table border=\"1\" class=\"dataframe\">\n",
       "  <thead>\n",
       "    <tr style=\"text-align: right;\">\n",
       "      <th></th>\n",
       "      <th>8370</th>\n",
       "    </tr>\n",
       "  </thead>\n",
       "  <tbody>\n",
       "    <tr>\n",
       "      <th>0</th>\n",
       "      <td>15200</td>\n",
       "    </tr>\n",
       "    <tr>\n",
       "      <th>1</th>\n",
       "      <td>1422</td>\n",
       "    </tr>\n",
       "    <tr>\n",
       "      <th>2</th>\n",
       "      <td>1057</td>\n",
       "    </tr>\n",
       "    <tr>\n",
       "      <th>3</th>\n",
       "      <td>7969</td>\n",
       "    </tr>\n",
       "    <tr>\n",
       "      <th>4</th>\n",
       "      <td>15227</td>\n",
       "    </tr>\n",
       "    <tr>\n",
       "      <th>5</th>\n",
       "      <td>19215</td>\n",
       "    </tr>\n",
       "    <tr>\n",
       "      <th>6</th>\n",
       "      <td>15854</td>\n",
       "    </tr>\n",
       "    <tr>\n",
       "      <th>7</th>\n",
       "      <td>15686</td>\n",
       "    </tr>\n",
       "    <tr>\n",
       "      <th>8</th>\n",
       "      <td>7871</td>\n",
       "    </tr>\n",
       "    <tr>\n",
       "      <th>9</th>\n",
       "      <td>5254</td>\n",
       "    </tr>\n",
       "  </tbody>\n",
       "</table>\n",
       "</div>"
      ],
      "text/plain": [
       "    8370\n",
       "0  15200\n",
       "1   1422\n",
       "2   1057\n",
       "3   7969\n",
       "4  15227\n",
       "5  19215\n",
       "6  15854\n",
       "7  15686\n",
       "8   7871\n",
       "9   5254"
      ]
     },
     "execution_count": 12,
     "metadata": {},
     "output_type": "execute_result"
    }
   ],
   "source": [
    "import numpy as np\n",
    "import pandas as pd\n",
    "import matplotlib.pyplot as plt\n",
    "import seaborn as sns\n",
    "import scipy as sc\n",
    "import plotly.tools as tls\n",
    "import plotly.plotly as py\n",
    "\n",
    "bf = pd.read_csv('Dataset/black_friday.csv', engine = 'python')\n",
    "bf.head(10)\n"
   ]
  },
  {
   "cell_type": "code",
   "execution_count": 44,
   "metadata": {},
   "outputs": [
    {
     "name": "stdout",
     "output_type": "stream",
     "text": [
      "Minimum value = 185\n",
      "Makimum value = 23961\n",
      "Mean value = 9333.861645609179\n",
      "Mode value = 6855\n",
      "Median value = 8062.0\n",
      "Variance value = 24810625.910612945\n",
      "Standard Deviation value = 4981.026592040334\n",
      "Skewness value  = 4981.026592040334\n",
      "Kurtosis value = -0.343126846253909\n"
     ]
    }
   ],
   "source": [
    "purchase = bf['8370']\n",
    "Min = purchase.min()\n",
    "print(\"Minimum value = \" + str(Min))\n",
    "\n",
    "Max = purchase.max()\n",
    "print(\"Makimum value = \" + str(Max))\n",
    "\n",
    "Mean = purchase.mean()\n",
    "print(\"Mean value = \" + str(Mean))\n",
    "\n",
    "Mode = purchase.mode()[0]\n",
    "print(\"Mode value = \" + str(Mode))\n",
    "\n",
    "Median = purchase.median()\n",
    "print(\"Median value = \" + str(Median))\n",
    "\n",
    "Variance = purchase.var()\n",
    "print(\"Variance value = \" + str(Variance))\n",
    "\n",
    "std = purchase.std()\n",
    "print(\"Standard Deviation value = \" + str(std))\n",
    "\n",
    "skew = purchase.std()\n",
    "print(\"Skewness value  = \" + str(skew))\n",
    "\n",
    "kur = purchase.kurtosis()\n",
    "print(\"Kurtosis value = \" + str(kur))"
   ]
  },
  {
   "cell_type": "code",
   "execution_count": 15,
   "metadata": {},
   "outputs": [
    {
     "data": {
      "text/plain": [
       "Text(0.5, 1.0, 'Histogram')"
      ]
     },
     "execution_count": 15,
     "metadata": {},
     "output_type": "execute_result"
    },
    {
     "data": {
      "image/png": "[encoded data removed]",
      "text/plain": [
       "<Figure size 432x288 with 1 Axes>"
      ]
     },
     "metadata": {
      "needs_background": "light"
     },
     "output_type": "display_data"
    }
   ],
   "source": [
    "#hist(freq)\n",
    "plt.hist(purchase,bins = 50)\n",
    "plt.xlabel('value')\n",
    "plt.ylabel('frequency')\n",
    "plt.title('Histogram')\n",
    "#plt.show()"
   ]
  },
  {
   "cell_type": "code",
   "execution_count": 43,
   "metadata": {},
   "outputs": [
    {
     "data": {
      "image/png": "[encoded data removed]",
      "text/plain": [
       "<Figure size 432x288 with 1 Axes>"
      ]
     },
     "metadata": {
      "needs_background": "light"
     },
     "output_type": "display_data"
    }
   ],
   "source": [
    "plt.boxplot(purchase)\n",
    "plt.ylabel('value')\n",
    "plt.title('Boxplot')\n",
    "plt.show()"
   ]
  },
  {
   "cell_type": "code",
   "execution_count": 9,
   "metadata": {},
   "outputs": [
    {
     "data": {
      "text/html": [
       "<div>\n",
       "<style scoped>\n",
       "    .dataframe tbody tr th:only-of-type {\n",
       "        vertical-align: middle;\n",
       "    }\n",
       "\n",
       "    .dataframe tbody tr th {\n",
       "        vertical-align: top;\n",
       "    }\n",
       "\n",
       "    .dataframe thead th {\n",
       "        text-align: right;\n",
       "    }\n",
       "</style>\n",
       "<table border=\"1\" class=\"dataframe\">\n",
       "  <thead>\n",
       "    <tr style=\"text-align: right;\">\n",
       "      <th></th>\n",
       "      <th>8370</th>\n",
       "    </tr>\n",
       "  </thead>\n",
       "  <tbody>\n",
       "    <tr>\n",
       "      <th>0</th>\n",
       "      <td>15200</td>\n",
       "    </tr>\n",
       "    <tr>\n",
       "      <th>1</th>\n",
       "      <td>1422</td>\n",
       "    </tr>\n",
       "    <tr>\n",
       "      <th>2</th>\n",
       "      <td>1057</td>\n",
       "    </tr>\n",
       "    <tr>\n",
       "      <th>3</th>\n",
       "      <td>7969</td>\n",
       "    </tr>\n",
       "    <tr>\n",
       "      <th>4</th>\n",
       "      <td>15227</td>\n",
       "    </tr>\n",
       "  </tbody>\n",
       "</table>\n",
       "</div>"
      ],
      "text/plain": [
       "    8370\n",
       "0  15200\n",
       "1   1422\n",
       "2   1057\n",
       "3   7969\n",
       "4  15227"
      ]
     },
     "execution_count": 9,
     "metadata": {},
     "output_type": "execute_result"
    }
   ],
   "source": [
    "def miskin(data) :\n",
    "    count = 0\n",
    "    for i in data :\n",
    "        data[i]<"
   ]
  },
  {
   "cell_type": "code",
   "execution_count": 18,
   "metadata": {},
   "outputs": [],
   "source": [
    "def Miskin(data) :\n",
    "    count = 0\n",
    "    for i in data :\n",
    "        if(data[i]<1000):\n",
    "            count = count+1\n",
    "    return count\n",
    "\n",
    "def Kaya(data) :\n",
    "    count = 0\n",
    "    for i in data :\n",
    "        if(data[i]>10000):\n",
    "            count = count+1\n",
    "    return count\n",
    "\n",
    "def CrazyRich(data) :\n",
    "    count = 0\n",
    "    for i in data :\n",
    "        if(data[i]>20000):\n",
    "            count = count+1\n",
    "    return count"
   ]
  },
  {
   "cell_type": "code",
   "execution_count": 29,
   "metadata": {},
   "outputs": [],
   "source": [
    "Jumlah_Miskin = Miskin(purchase)\n",
    "Jumlah_Kaya = Kaya(purchase)\n",
    "Jumlah_CrazyRich = CrazyRich(purchase)\n",
    "\n",
    "data = []\n",
    "data.append(Jumlah_Miskin)\n",
    "data.append(Jumlah_Kaya)\n",
    "data.append(Jumlah_CrazyRich)"
   ]
  },
  {
   "cell_type": "code",
   "execution_count": 27,
   "metadata": {},
   "outputs": [],
   "source": [
    "Ekspetasi_Miskin = 250*Jumlah_Miskin/len(purchase)\n",
    "Ekspetasi_Kaya = 250*Jumlah_Kaya/len(purchase)\n",
    "Ekspetasi_CrazyRich = 250*Jumlah_CrazyRich/len(purchase)"
   ]
  },
  {
   "cell_type": "markdown",
   "metadata": {},
   "source": [
    "# A. Jika terdapat 250 orang pembeli baru yang mengikuti Black Friday, tentukan ekspetasi jumlah orang miskin, kaya, dan crazy rich "
   ]
  },
  {
   "cell_type": "markdown",
   "metadata": {},
   "source": [
    "i. Ekspetasi jumlah orang miskin"
   ]
  },
  {
   "cell_type": "code",
   "execution_count": 33,
   "metadata": {
    "scrolled": true
   },
   "outputs": [
    {
     "name": "stdout",
     "output_type": "stream",
     "text": [
      "3.284651844576395\n"
     ]
    }
   ],
   "source": [
    "print(Ekspetasi_Miskin)"
   ]
  },
  {
   "cell_type": "markdown",
   "metadata": {},
   "source": [
    "ii. Ekspetasi jumlah orang kaya"
   ]
  },
  {
   "cell_type": "code",
   "execution_count": 34,
   "metadata": {},
   "outputs": [
    {
     "name": "stdout",
     "output_type": "stream",
     "text": [
      "83.76024971352888\n"
     ]
    }
   ],
   "source": [
    "print(Ekspetasi_Kaya)"
   ]
  },
  {
   "cell_type": "markdown",
   "metadata": {},
   "source": [
    "iii. Ekspetasi jumlah orang Crazy Rich"
   ]
  },
  {
   "cell_type": "code",
   "execution_count": 35,
   "metadata": {},
   "outputs": [
    {
     "name": "stdout",
     "output_type": "stream",
     "text": [
      "5.169966665178505\n"
     ]
    }
   ],
   "source": [
    "print(Ekspetasi_CrazyRich)"
   ]
  },
  {
   "cell_type": "code",
   "execution_count": 36,
   "metadata": {},
   "outputs": [],
   "source": [
    "def Galaxy(data) :\n",
    "    count = 0\n",
    "    for i in data :\n",
    "        if(data[i]>1980) and data[i]<2000:\n",
    "            count = count+1\n",
    "    return count\n",
    "\n",
    "def Mac(data) :\n",
    "    count = 0\n",
    "    for i in data :\n",
    "        if(data[i]>2707) and data[i]<2897:\n",
    "            count = count+1\n",
    "    return count\n",
    "    "
   ]
  },
  {
   "cell_type": "code",
   "execution_count": 39,
   "metadata": {},
   "outputs": [],
   "source": [
    "Jumlah_Galaxy = Galaxy(purchase)\n",
    "Jumlah_Mac = Mac(purchase)\n",
    "Ekspetasi_Galaxy = 1000*Jumlah_Galaxy/len(purchase)\n",
    "Ekspetasi_Mac = 1000*Jumlah_Mac/len(purchase)"
   ]
  },
  {
   "cell_type": "markdown",
   "metadata": {},
   "source": [
    "# B. Jika terdapat 1000 orang pembeli baru yang mengikuti Black Friday, tentukan ekspektasi jumlah orang yang pengeluarannya membeli Galaxy Fold dan MacBook Pro+ iPhone XR + AirPods"
   ]
  },
  {
   "cell_type": "markdown",
   "metadata": {},
   "source": [
    "i. Ekspetasi jumlah orang pembeli Galaxy Fold"
   ]
  },
  {
   "cell_type": "code",
   "execution_count": 42,
   "metadata": {},
   "outputs": [
    {
     "name": "stdout",
     "output_type": "stream",
     "text": [
      "0.9226602378082355\n"
     ]
    }
   ],
   "source": [
    "print(Ekspetasi_Galaxy)"
   ]
  },
  {
   "cell_type": "markdown",
   "metadata": {},
   "source": [
    "ii. Ekspetasi jumlah orang pembeli MacBook Pro Touch Bar 256GB + iPhone XR + AirPods 2"
   ]
  },
  {
   "cell_type": "code",
   "execution_count": 41,
   "metadata": {},
   "outputs": [
    {
     "name": "stdout",
     "output_type": "stream",
     "text": [
      "7.146896438829114\n"
     ]
    }
   ],
   "source": [
    "print(Ekspetasi_Mac)"
   ]
  },
  {
   "cell_type": "code",
   "execution_count": null,
   "metadata": {},
   "outputs": [],
   "source": []
  }
 ],
 "metadata": {
  "kernelspec": {
   "display_name": "Python 3",
   "language": "python",
   "name": "python3"
  },
  "language_info": {
   "codemirror_mode": {
    "name": "ipython",
    "version": 3
   },
   "file_extension": ".py",
   "mimetype": "text/x-python",
   "name": "python",
   "nbconvert_exporter": "python",
   "pygments_lexer": "ipython3",
   "version": "3.6.7"
  }
 },
 "nbformat": 4,
 "nbformat_minor": 2
}
