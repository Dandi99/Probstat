{
 "cells": [
  {
   "cell_type": "code",
   "execution_count": 30,
   "metadata": {},
   "outputs": [
    {
     "data": {
      "text/html": [
       "<div>\n",
       "<style scoped>\n",
       "    .dataframe tbody tr th:only-of-type {\n",
       "        vertical-align: middle;\n",
       "    }\n",
       "\n",
       "    .dataframe tbody tr th {\n",
       "        vertical-align: top;\n",
       "    }\n",
       "\n",
       "    .dataframe thead th {\n",
       "        text-align: right;\n",
       "    }\n",
       "</style>\n",
       "<table border=\"1\" class=\"dataframe\">\n",
       "  <thead>\n",
       "    <tr style=\"text-align: right;\">\n",
       "      <th></th>\n",
       "      <th>ï»¿Name</th>\n",
       "      <th>Age</th>\n",
       "      <th>Nationality</th>\n",
       "    </tr>\n",
       "  </thead>\n",
       "  <tbody>\n",
       "    <tr>\n",
       "      <th>0</th>\n",
       "      <td>L. Messi</td>\n",
       "      <td>31</td>\n",
       "      <td>Argentina</td>\n",
       "    </tr>\n",
       "    <tr>\n",
       "      <th>1</th>\n",
       "      <td>Cristiano Ronaldo</td>\n",
       "      <td>33</td>\n",
       "      <td>Portugal</td>\n",
       "    </tr>\n",
       "    <tr>\n",
       "      <th>2</th>\n",
       "      <td>Neymar Jr</td>\n",
       "      <td>26</td>\n",
       "      <td>Brazil</td>\n",
       "    </tr>\n",
       "    <tr>\n",
       "      <th>3</th>\n",
       "      <td>De Gea</td>\n",
       "      <td>27</td>\n",
       "      <td>Spain</td>\n",
       "    </tr>\n",
       "    <tr>\n",
       "      <th>4</th>\n",
       "      <td>K. De Bruyne</td>\n",
       "      <td>27</td>\n",
       "      <td>Belgium</td>\n",
       "    </tr>\n",
       "  </tbody>\n",
       "</table>\n",
       "</div>"
      ],
      "text/plain": [
       "             ï»¿Name  Age Nationality\n",
       "0           L. Messi   31   Argentina\n",
       "1  Cristiano Ronaldo   33    Portugal\n",
       "2          Neymar Jr   26      Brazil\n",
       "3             De Gea   27       Spain\n",
       "4       K. De Bruyne   27     Belgium"
      ]
     },
     "execution_count": 30,
     "metadata": {},
     "output_type": "execute_result"
    }
   ],
   "source": [
    "import numpy as np\n",
    "import pandas as pd\n",
    "import matplotlib.pyplot as plt\n",
    "import seaborn as sns\n",
    "import scipy as sc\n",
    "import plotly.tools as tls\n",
    "import plotly.plotly as py\n",
    "\n",
    "fifa = pd.read_csv('fifa.csv', engine = 'python')\n",
    "fifa.head()"
   ]
  },
  {
   "cell_type": "code",
   "execution_count": 31,
   "metadata": {},
   "outputs": [
    {
     "name": "stdout",
     "output_type": "stream",
     "text": [
      "Minimum value = 16\n",
      "Maximum value = 45\n",
      "Mean value = 25.122205745043114\n",
      "Mode value = 21\n",
      "Median value = 25.0\n",
      "Variance value = 21.80836494657141\n",
      "Standard Deviation value = 4.66994271341431\n",
      "Skewness value  = 4.66994271341431\n",
      "Kurtosis value = -0.4595135539307731\n"
     ]
    }
   ],
   "source": [
    "age = fifa['Age']\n",
    "Min = age.min()\n",
    "print(\"Minimum value = \" + str(Min))\n",
    "\n",
    "Max = age.max()\n",
    "print(\"Maximum value = \" + str(Max))\n",
    "\n",
    "Mean = age.mean()\n",
    "print(\"Mean value = \" + str(Mean))\n",
    "\n",
    "Mode = age.mode()[0]\n",
    "print(\"Mode value = \" + str(Mode))\n",
    "\n",
    "Median = age.median()\n",
    "print(\"Median value = \" + str(Median))\n",
    "\n",
    "Variance = age.var()\n",
    "print(\"Variance value = \" + str(Variance))\n",
    "\n",
    "std = age.std()\n",
    "print(\"Standard Deviation value = \" + str(std))\n",
    "\n",
    "skew = age.std()\n",
    "print(\"Skewness value  = \" + str(skew))\n",
    "\n",
    "kur = age.kurtosis()\n",
    "print(\"Kurtosis value = \" + str(kur))"
   ]
  },
  {
   "cell_type": "code",
   "execution_count": 32,
   "metadata": {},
   "outputs": [
    {
     "data": {
      "text/plain": [
       "Text(0.5, 1.0, 'Histogram')"
      ]
     },
     "execution_count": 32,
     "metadata": {},
     "output_type": "execute_result"
    },
    {
     "data": {
      "image/png": "[encoded data removed]",
      "text/plain": [
       "<Figure size 432x288 with 1 Axes>"
      ]
     },
     "metadata": {
      "needs_background": "light"
     },
     "output_type": "display_data"
    }
   ],
   "source": [
    "age = fifa['Age']\n",
    "plt.hist(age,bins = 50)\n",
    "plt.xlabel('value')\n",
    "plt.ylabel('frequency')\n",
    "plt.title('Histogram')"
   ]
  },
  {
   "cell_type": "markdown",
   "metadata": {},
   "source": [
    "Dari grafik di atas, fungsi distribusi peluang yang paling sesuai adalah distribusi binomial."
   ]
  },
  {
   "cell_type": "code",
   "execution_count": 33,
   "metadata": {},
   "outputs": [
    {
     "data": {
      "image/png": "[encoded data removed]",
      "text/plain": [
       "<Figure size 432x288 with 1 Axes>"
      ]
     },
     "metadata": {
      "needs_background": "light"
     },
     "output_type": "display_data"
    }
   ],
   "source": [
    "age = fifa['Age']\n",
    "plt.boxplot(age)\n",
    "plt.ylabel('value')\n",
    "plt.title('Boxplot')\n",
    "plt.show()"
   ]
  },
  {
   "cell_type": "code",
   "execution_count": 34,
   "metadata": {},
   "outputs": [
    {
     "name": "stdout",
     "output_type": "stream",
     "text": [
      "Jika terdapat 1000 pemain bola baru yang ditambahkan oleh Tsubasa, tentukan ekspektasi umur pemain bola yang\n",
      "i. Berumur kurang dari 22 tahun\n",
      "260.88866919316746\n",
      "ii. Berumur lebih dari 40 tahun\n",
      "0.49431537320810676\n"
     ]
    }
   ],
   "source": [
    "def Ekspektasi(n_samples, data, bound, sign):\n",
    "    count = 0\n",
    "    if(sign == '<'):\n",
    "        for item in data:\n",
    "            if item < bound:\n",
    "                count = count + 1\n",
    "    else:\n",
    "        for item in data:\n",
    "            if item > bound:\n",
    "                count = count + 1\n",
    "    return n_samples*count/len(data)\n",
    "\n",
    "age = fifa['Age']\n",
    "print('Jika terdapat 1000 pemain bola baru yang ditambahkan oleh Tsubasa, tentukan ekspektasi umur pemain bola yang')\n",
    "print('i. Berumur kurang dari 22 tahun')\n",
    "print(Ekspektasi(1000, age, 22, '<'))\n",
    "print('ii. Berumur lebih dari 40 tahun')\n",
    "print(Ekspektasi(1000, age, 40, '>'))"
   ]
  },
  {
   "cell_type": "code",
   "execution_count": null,
   "metadata": {},
   "outputs": [],
   "source": []
  }
 ],
 "metadata": {
  "kernelspec": {
   "display_name": "Python 3",
   "language": "python",
   "name": "python3"
  },
  "language_info": {
   "codemirror_mode": {
    "name": "ipython",
    "version": 3
   },
   "file_extension": ".py",
   "mimetype": "text/x-python",
   "name": "python",
   "nbconvert_exporter": "python",
   "pygments_lexer": "ipython3",
   "version": "3.7.1"
  }
 },
 "nbformat": 4,
 "nbformat_minor": 2
}
